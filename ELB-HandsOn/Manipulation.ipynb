{
 "cells": [
  {
   "cell_type": "code",
   "execution_count": null,
   "metadata": {},
   "outputs": [],
   "source": [
    "#Commands to see if our instance's status is unhealthy, how Load Balancer distributes load\n",
    "#Connection with a instance\n",
    "❯ cd key\n",
    "~/Desktop/key\n",
    "❯ ls\n",
    "PrivatePirate.cer\n",
    "~/Desktop/key\n",
    "❯ ssh -i PrivatePirate.cer ec2-user@54.196.173.201\n",
    "The authenticity of host '54.196.173.201 (54.196.173.201)' can't be established.\n",
    "ECDSA key fingerprint is SHA256:oo+gRx+atlBW7Z6fGL4oIQW6U/H6ZmoCvXiKJYMEp9c.\n",
    "Are you sure you want to continue connecting (yes/no/[fingerprint])? yes\n",
    "Warning: Permanently added '54.196.173.201' (ECDSA) to the list of known hosts.\n",
    "\n",
    "       __|  __|_  )\n",
    "       _|  (     /   Amazon Linux 2 AMI\n",
    "      ___|\\___|___|\n",
    "\n",
    "https://aws.amazon.com/amazon-linux-2/\n",
    "\n",
    "#Manipulation the instance to see unhealthy(Target Groups-->Health Status)\n",
    "[ec2-user@ip-172-31-25-28 ~]$ cd /var/www/html\n",
    "[ec2-user@ip-172-31-25-28 html]$ ls\n",
    "index.html\n",
    "[ec2-user@ip-172-31-25-28 html]$ cat index.html\n",
    "<html>\n",
    "<head>\n",
    "    <title> Congratulations! You have created an instance from Launch Template</title>\n",
    "</head>\n",
    "<body>\n",
    "    <h1>This web server is launched from launch template by Hivel</h1>\n",
    "    <p>This instance is created at <b>Fri May 27 08:20:13 UTC 2022</b></p>\n",
    "    <p>Private IP address of this instance is <b>172.31.25.28</b></p>\n",
    "    <p>Public IP address of this instance is <b>54.196.173.201</b></p>\n",
    "</body>\n",
    "</html>\n",
    "[ec2-user@ip-172-31-25-28 html]$ mv index.html index.html.bak\n",
    "[ec2-user@ip-172-31-25-28 html]$ ls\n",
    "index.html.bak\n",
    "\n",
    "#Restoration\n",
    "[ec2-user@ip-172-31-25-28 html]$ mv index.html.bak index.html\n",
    "[ec2-user@ip-172-31-25-28 html]$ ls\n",
    "index.html\n",
    "[ec2-user@ip-172-31-25-28 html]$ \n"
   ]
  }
 ],
 "metadata": {
  "language_info": {
   "name": "python"
  },
  "orig_nbformat": 4
 },
 "nbformat": 4,
 "nbformat_minor": 2
}
